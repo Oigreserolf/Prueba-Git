{
 "cells": [
  {
   "cell_type": "code",
   "execution_count": 1,
   "id": "smooth-strike",
   "metadata": {},
   "outputs": [
    {
     "name": "stdout",
     "output_type": "stream",
     "text": [
      "primer programa de python\n"
     ]
    }
   ],
   "source": [
    "print('primer programa de python')"
   ]
  },
  {
   "cell_type": "code",
   "execution_count": 2,
   "id": "russian-travel",
   "metadata": {},
   "outputs": [
    {
     "name": "stdout",
     "output_type": "stream",
     "text": [
      "Gracias profesor\n"
     ]
    }
   ],
   "source": [
    "print('Gracias profesor')"
   ]
  },
  {
   "cell_type": "code",
   "execution_count": null,
   "id": "partial-parker",
   "metadata": {},
   "outputs": [],
   "source": []
  }
 ],
 "metadata": {
  "kernelspec": {
   "display_name": "Python 3",
   "language": "python",
   "name": "python3"
  },
  "language_info": {
   "codemirror_mode": {
    "name": "ipython",
    "version": 3
   },
   "file_extension": ".py",
   "mimetype": "text/x-python",
   "name": "python",
   "nbconvert_exporter": "python",
   "pygments_lexer": "ipython3",
   "version": "3.8.8"
  }
 },
 "nbformat": 4,
 "nbformat_minor": 5
}
